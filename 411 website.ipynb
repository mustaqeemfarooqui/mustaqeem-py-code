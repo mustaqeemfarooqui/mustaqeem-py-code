{
 "cells": [
  {
   "cell_type": "code",
   "execution_count": 4,
   "id": "27891968-3372-4c13-8443-e15a5784ab7d",
   "metadata": {},
   "outputs": [],
   "source": [
    "from selenium import webdriver\n",
    "from selenium.webdriver.common.by import By\n",
    "from selenium.webdriver.support.wait import WebDriverWait\n",
    "from selenium.webdriver.support import expected_conditions as EC\n",
    "import time\n",
    "from bs4 import BeautifulSoup\n",
    "from urllib.request import urlopen\n",
    "from urllib.request import urlretrieve\n",
    "from selenium.webdriver.common.action_chains import ActionChains"
   ]
  },
  {
   "cell_type": "code",
   "execution_count": 49,
   "id": "eb16951d-680c-4f0b-a25c-a2d2eff8eb8e",
   "metadata": {},
   "outputs": [],
   "source": [
    "driver = webdriver.Chrome()\n",
    "driver.get(\"https://www.411.com/reverse-phone-lookup\")\n"
   ]
  },
  {
   "cell_type": "code",
   "execution_count": 50,
   "id": "f9b03cb9-4553-409f-99d0-d769fb7b4bec",
   "metadata": {},
   "outputs": [],
   "source": [
    "no_search = driver.find_element(By.XPATH, \"//input[@name='s_phone']\")\n",
    "no_search.send_keys(\"6016482350\")\n",
    "time.sleep(3)\n"
   ]
  },
  {
   "cell_type": "code",
   "execution_count": 51,
   "id": "c3360d3e-b5a2-44b0-97de-9b2d3c0b70eb",
   "metadata": {},
   "outputs": [],
   "source": [
    "search_btn = driver.find_element(By.XPATH, \"//button[@type='submit']\")\n",
    "search_btn.click()\n",
    "time.sleep(3)"
   ]
  },
  {
   "cell_type": "code",
   "execution_count": 59,
   "id": "64aa585d-542a-4a38-9da8-e2f08fd6aa22",
   "metadata": {},
   "outputs": [],
   "source": [
    "check_box = driver.find_element(By.XPATH, \"//input[@type='checkbox']\")\n",
    "check_box.click()\n",
    "time.sleep(2)"
   ]
  },
  {
   "cell_type": "code",
   "execution_count": 60,
   "id": "a7406841-3357-4f76-8a89-8084ce332a1b",
   "metadata": {},
   "outputs": [],
   "source": [
    "check_btn = driver.find_element(By.XPATH, \"//button[@id='tos-button']\")\n",
    "check_btn.click()\n",
    "time.sleep(3)"
   ]
  },
  {
   "cell_type": "code",
   "execution_count": 54,
   "id": "3e7eea01-5ba3-41c7-99ea-9503e64be549",
   "metadata": {},
   "outputs": [
    {
     "name": "stdout",
     "output_type": "stream",
     "text": [
      "Robert Carpenter\n",
      "70s\n",
      "Buckatunna, MS\n"
     ]
    }
   ],
   "source": [
    "name = driver.find_element(By.XPATH, \"//*[@id=\\\"owner-name\\\"]/span[2]\")\n",
    "print(name.text)\n",
    "age = driver.find_element(By.XPATH, \"//*[@id=\\\"owner-age\\\"]/span[2]\")\n",
    "print(age.text)\n",
    "location = driver.find_element(By.XPATH, \"//*[@id=\\\"owner-location\\\"]/span[2]\")\n",
    "print(location.text)"
   ]
  },
  {
   "cell_type": "code",
   "execution_count": 55,
   "id": "c113bd00-9c6d-4129-ae1e-282d63827cf3",
   "metadata": {},
   "outputs": [],
   "source": [
    " driver.execute_script(\"window.scrollTo(0, 200);\")"
   ]
  },
  {
   "cell_type": "code",
   "execution_count": 56,
   "id": "b54b4221-78f9-450f-a371-cfbf0a534cdf",
   "metadata": {},
   "outputs": [
    {
     "name": "stdout",
     "output_type": "stream",
     "text": [
      "25 Langham Dr, Buckatunna, MS\n"
     ]
    }
   ],
   "source": [
    "owner_addresses = driver.find_element(By.XPATH, \"//div[@id='other-locations-0']\")\n",
    "print(owner_addresses.text)"
   ]
  },
  {
   "cell_type": "code",
   "execution_count": 57,
   "id": "d899e18e-c098-4e75-adb0-6d77c9c25d74",
   "metadata": {},
   "outputs": [],
   "source": [
    "driver.execute_script(\"window.scrollTo(300, 700);\")\n"
   ]
  },
  {
   "cell_type": "code",
   "execution_count": 58,
   "id": "5afd1d13-cb56-4e18-a6ab-cbab29aad935",
   "metadata": {},
   "outputs": [
    {
     "name": "stdout",
     "output_type": "stream",
     "text": [
      "(601) 648-2350\n",
      "(601) 648-2742\n"
     ]
    }
   ],
   "source": [
    "owner_landlines_number_1 = driver.find_element(By.XPATH, \"//*[@id=\\\"landline-0\\\"]\")\n",
    "print(owner_landlines_number.text)\n",
    "owner_landlines_number_2 = driver.find_element(By.XPATH, \"//*[@id=\\\"landline-1\\\"]\")\n",
    "print(owner_landlines_number_2.text)"
   ]
  },
  {
   "cell_type": "code",
   "execution_count": 70,
   "id": "78cb8a8c-9d66-424a-b5e1-115a03129c38",
   "metadata": {},
   "outputs": [
    {
     "name": "stdout",
     "output_type": "stream",
     "text": [
      "Robert Carpenter\n",
      "70s\n",
      "Buckatunna, MS\n",
      "25 Langham Dr, Buckatunna, MS\n",
      "(601) 648-2350\n",
      "(601) 648-2742\n"
     ]
    }
   ],
   "source": [
    "driver = webdriver.Chrome()\n",
    "driver.get(\"https://www.411.com/reverse-phone-lookup\")\n",
    "time.sleep(3)\n",
    "no_search = driver.find_element(By.XPATH, \"//input[@name='s_phone']\")\n",
    "no_search.send_keys(\"6016482350\")\n",
    "time.sleep(3)\n",
    "search_btn = driver.find_element(By.XPATH, \"//button[@type='submit']\")\n",
    "search_btn.click()\n",
    "time.sleep(3)\n",
    "\n",
    "try:\n",
    "    \n",
    "    check_box = driver.find_element(By.XPATH, \"//input[@type='checkbox']\")\n",
    "    check_box.click()\n",
    "    time.sleep(2)\n",
    "\n",
    "except Exception as e:\n",
    "    print(f\"An error occurred while finding or clicking the checkbox: {e}\")\n",
    "try:\n",
    "    check_btn = driver.find_element(By.XPATH, \"//button[@id='tos-button']\")\n",
    "    check_btn.click()\n",
    "    time.sleep(3)\n",
    "\n",
    "except Exception as e:\n",
    "    print(f\"An error occurred: {e}\")\n",
    "time.sleep(3)\n",
    "try:\n",
    "   \n",
    "    name = driver.find_element(By.XPATH, \"//*[@id=\\\"owner-name\\\"]/span[2]\")\n",
    "    print(name.text)\n",
    "\n",
    "except Exception as e:\n",
    "    print(f\"An error occurred while finding owner's name: {e}\")\n",
    "\n",
    "try:\n",
    "    \n",
    "    age = driver.find_element(By.XPATH, \"//*[@id=\\\"owner-age\\\"]/span[2]\")\n",
    "    print(age.text)\n",
    "\n",
    "except Exception as e:\n",
    "    print(f\"An error occurred while finding owner's age: {e}\")\n",
    "\n",
    "try:\n",
    "   \n",
    "    location = driver.find_element(By.XPATH, \"//*[@id=\\\"owner-location\\\"]/span[2]\")\n",
    "    print(location.text)\n",
    "\n",
    "except Exception as e:\n",
    "    print(f\"An error occurred while finding owner's location: {e}\")\n",
    "time.sleep(2)\n",
    "try:\n",
    "    \n",
    "    driver.execute_script(\"window.scrollTo(0, 200);\")\n",
    "\n",
    "except Exception as e:\n",
    "    print(f\"An error occurred while scrolling the window: {e}\")\n",
    "time.sleep(2)\n",
    "try:\n",
    "    owner_addresses = driver.find_element(By.XPATH, \"//div[@id='other-locations-0']\")\n",
    "    print(owner_addresses.text)\n",
    "\n",
    "except Exception as e:\n",
    "    print(f\"An error occurred while finding or printing owner's addresses: {e}\")\n",
    "time.sleep(1)\n",
    "try:\n",
    "    driver.execute_script(\"window.scrollTo(300, 700);\")\n",
    "\n",
    "except Exception as e:\n",
    "    print(f\"An error occurred while scrolling the window: {e}\")\n",
    "\n",
    "try:\n",
    "    \n",
    "    owner_landlines_number_1 = driver.find_element(By.XPATH, \"//*[@id=\\\"landline-0\\\"]\")\n",
    "    print(owner_landlines_number_1.text)\n",
    "\n",
    "except Exception as e:\n",
    "    print(f\"An error occurred while finding or printing owner's landline number 1: {e}\")\n",
    "\n",
    "try:\n",
    "   \n",
    "    owner_landlines_number_2 = driver.find_element(By.XPATH, \"//*[@id=\\\"landline-1\\\"]\")\n",
    "    print(owner_landlines_number_2.text)\n",
    "\n",
    "except Exception as e:\n",
    "    print(f\"An error occurred while finding or printing owner's landline number 2: {e}\")\n",
    "\n",
    "driver.quit()"
   ]
  },
  {
   "cell_type": "code",
   "execution_count": null,
   "id": "1a0547db-e05f-43e1-ad5a-f50ac96cdfa6",
   "metadata": {},
   "outputs": [],
   "source": []
  }
 ],
 "metadata": {
  "kernelspec": {
   "display_name": "Python 3 (ipykernel)",
   "language": "python",
   "name": "python3"
  },
  "language_info": {
   "codemirror_mode": {
    "name": "ipython",
    "version": 3
   },
   "file_extension": ".py",
   "mimetype": "text/x-python",
   "name": "python",
   "nbconvert_exporter": "python",
   "pygments_lexer": "ipython3",
   "version": "3.11.7"
  }
 },
 "nbformat": 4,
 "nbformat_minor": 5
}
